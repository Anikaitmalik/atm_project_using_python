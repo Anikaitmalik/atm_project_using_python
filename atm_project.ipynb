{
 "cells": [
  {
   "cell_type": "code",
   "execution_count": 9,
   "id": "24c6283e",
   "metadata": {},
   "outputs": [
    {
     "data": {
      "text/plain": [
       "False"
      ]
     },
     "execution_count": 9,
     "metadata": {},
     "output_type": "execute_result"
    }
   ],
   "source": [
    "# database[1234]['balance']\n",
    "pin = '134'\n",
    "\n",
    "pin in database.keys()"
   ]
  },
  {
   "cell_type": "code",
   "execution_count": 31,
   "id": "bc7ef95d",
   "metadata": {},
   "outputs": [],
   "source": [
    "database = {'1234':{'name':'Tanzeel','balance':10000},\n",
    "           '6789':{'name':'himanshu','balance':2000}}\n",
    "\n",
    "options = ['withdrawal','deposit','balance','exit']\n"
   ]
  },
  {
   "cell_type": "code",
   "execution_count": 34,
   "id": "0dc463b4",
   "metadata": {},
   "outputs": [
    {
     "name": "stdout",
     "output_type": "stream",
     "text": [
      "Enter your 4-digit pin: 1234\n",
      "Welcome Tanzeel to XYZ bank. Please select the service to continue:\n",
      "\n",
      "1 withdrawal\n",
      "2 deposit\n",
      "3 balance\n",
      "4 exit\n",
      "Service code: 3\n",
      "Your current balance is:Rs. 13000.0\n"
     ]
    }
   ],
   "source": [
    "\n",
    "pin = input('Enter your 4-digit pin: ')\n",
    "\n",
    "if pin in database.keys():\n",
    "    \n",
    "    name = database[pin]['name']\n",
    "    balance = database[pin]['balance']\n",
    "    \n",
    "    print(f'Welcome {name.title()} to XYZ bank. Please select the service to continue:\\n')\n",
    "    \n",
    "    for i,option in enumerate(options,1):\n",
    "        print(i,option)\n",
    "    service = input('Service code: ')\n",
    "    \n",
    "    if service=='1': #withdrawal\n",
    "        \n",
    "        amount = float(input('Enter amount to withdraw: '))\n",
    "        \n",
    "        if amount>balance:\n",
    "            print('Insufficient Balance..')\n",
    "        elif amount>5000:\n",
    "            print('Cannot withdraw more than 5000')\n",
    "        else:\n",
    "    \n",
    "            print(f'Please collect {amount}')\n",
    "            database[pin]['balance'] = balance-amount\n",
    "            print(f'Your current balance is {balance-amount}')\n",
    "        \n",
    "    elif service=='2': #deposit\n",
    "        \n",
    "        deposit = float(input('Enter amount to deposit: '))\n",
    "        \n",
    "        if deposit>5000:\n",
    "            print('Cannot deposit more than 5000.Please contact your bank..')\n",
    "        else:\n",
    "    \n",
    "            print(f'Rs.{deposit} deposited')\n",
    "            database[pin]['balance'] = balance+deposit\n",
    "            print(f'Your current balance is {balance+deposit}')\n",
    "        \n",
    "        \n",
    "    \n",
    "    elif service=='3':\n",
    "        balance = database[pin]['balance']\n",
    "        print(f\"Your current balance is:Rs. {balance}\")\n",
    "        \n",
    "    elif service=='4':\n",
    "        pass\n",
    "    else:\n",
    "        print('Invalid Code')\n",
    "    \n",
    "    \n",
    "    \n",
    "else:\n",
    "    print('Invalid Pin...')\n"
   ]
  },
  {
   "cell_type": "code",
   "execution_count": 43,
   "id": "81db3fa1",
   "metadata": {},
   "outputs": [
    {
     "name": "stdout",
     "output_type": "stream",
     "text": [
      "Enter your 4-digit pin: 1234\n",
      "Welcome Tanzeel to XYZ bank. Please select the service to continue:\n",
      "\n",
      "1 withdrawal\n",
      "2 deposit\n",
      "3 balance\n",
      "4 exit\n",
      "Service code: 1\n",
      "Enter amount to withdraw: 2000\n",
      "Please collect 2000.0\n",
      "Your current balance is 3000.0\n",
      "Do you want to continue? y/n: y\n",
      "Enter your 4-digit pin: 1234\n",
      "Welcome Tanzeel to XYZ bank. Please select the service to continue:\n",
      "\n",
      "1 withdrawal\n",
      "2 deposit\n",
      "3 balance\n",
      "4 exit\n",
      "Service code: 3\n",
      "Your current balance is:Rs. 3000.0\n",
      "Do you want to continue? y/n: n\n"
     ]
    }
   ],
   "source": [
    "\n",
    "\n",
    "\n",
    "\n",
    "while True:\n",
    "    pin = input('Enter your 4-digit pin: ')\n",
    "\n",
    "    if pin in database.keys():\n",
    "\n",
    "        name = database[pin]['name']\n",
    "        balance = database[pin]['balance']\n",
    "\n",
    "        print(f'Welcome {name.title()} to XYZ bank. Please select the service to continue:\\n')\n",
    "\n",
    "        for i,option in enumerate(options,1):\n",
    "            print(i,option)\n",
    "        service = input('Service code: ')\n",
    "\n",
    "        if service=='1': #withdrawal\n",
    "\n",
    "            amount = float(input('Enter amount to withdraw: '))\n",
    "\n",
    "            if amount>balance:\n",
    "                print('Insufficient Balance..')\n",
    "            elif amount>5000:\n",
    "                print('Cannot withdraw more than 5000')\n",
    "            else:\n",
    "\n",
    "                print(f'Please collect {amount}')\n",
    "                database[pin]['balance'] = balance-amount\n",
    "                print(f'Your current balance is {balance-amount}')\n",
    "            \n",
    "            \n",
    "\n",
    "        elif service=='2': #deposit\n",
    "\n",
    "            deposit = float(input('Enter amount to deposit: '))\n",
    "\n",
    "            if deposit>5000:\n",
    "                print('Cannot deposit more than 5000.Please contact your bank..')\n",
    "            else:\n",
    "\n",
    "                print(f'Rs.{deposit} deposited')\n",
    "                database[pin]['balance'] = balance+deposit\n",
    "                print(f'Your current balance is {balance+deposit}')\n",
    "\n",
    "            \n",
    "\n",
    "        elif service=='3':\n",
    "            balance = database[pin]['balance']\n",
    "            print(f\"Your current balance is:Rs. {balance}\")\n",
    "            \n",
    "        elif service=='4':\n",
    "            print('Thank you..')\n",
    "            break\n",
    "        else:\n",
    "            print('Invalid Code')\n",
    "\n",
    "\n",
    "        proceed = input('Do you want to continue? y/n: ').lower()\n",
    "\n",
    "        if proceed=='n':\n",
    "            break\n",
    "\n",
    "        \n",
    "        \n",
    "    else:\n",
    "        print('Invalid Pin...')\n"
   ]
  },
  {
   "cell_type": "code",
   "execution_count": null,
   "id": "dd14ac55",
   "metadata": {},
   "outputs": [],
   "source": []
  }
 ],
 "metadata": {
  "kernelspec": {
   "display_name": "Python 3 (ipykernel)",
   "language": "python",
   "name": "python3"
  },
  "language_info": {
   "codemirror_mode": {
    "name": "ipython",
    "version": 3
   },
   "file_extension": ".py",
   "mimetype": "text/x-python",
   "name": "python",
   "nbconvert_exporter": "python",
   "pygments_lexer": "ipython3",
   "version": "3.11.5"
  }
 },
 "nbformat": 4,
 "nbformat_minor": 5
}
